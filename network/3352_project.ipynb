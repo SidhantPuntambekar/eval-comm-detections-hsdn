{
 "cells": [
  {
   "cell_type": "code",
   "execution_count": 1,
   "metadata": {},
   "outputs": [],
   "source": [
    "import networkx as nx\n",
    "import numpy as np\n",
    "import matplotlib\n",
    "import matplotlib.pylab as plt\n",
    "import pandas as pd\n",
    "%matplotlib inline"
   ]
  },
  {
   "cell_type": "code",
   "execution_count": 13,
   "metadata": {
    "scrolled": true
   },
   "outputs": [
    {
     "name": "stdout",
     "output_type": "stream",
     "text": [
      "  MeSH Symptom Term                       MeSH Disease Term  \\\n",
      "0  Aging, Premature  Respiratory Syncytial Virus Infections   \n",
      "1  Aging, Premature             Orthomyxoviridae Infections   \n",
      "2  Aging, Premature                          HIV Infections   \n",
      "3  Aging, Premature      Acquired Immunodeficiency Syndrome   \n",
      "4  Aging, Premature                        Breast Neoplasms   \n",
      "\n",
      "   PubMed occurrence  TFIDF score  \n",
      "0                  1     3.464551  \n",
      "1                  1     3.464551  \n",
      "2                  3    10.393654  \n",
      "3                  3    10.393654  \n",
      "4                  1     3.464551  \n",
      "       MeSH Symptom Term     MeSH Disease Term  PubMed occurrence  TFIDF score\n",
      "147973         Hirsutism  Tobacco Use Disorder                  1     2.483722\n",
      "147974         Hirsutism      Radius Fractures                  1     2.483722\n",
      "147975         Hirsutism                 Burns                  1     2.483722\n",
      "147976         Hirsutism      Colles' Fracture                  1     2.483722\n",
      "147977         Hirsutism    Radiation Injuries                  1     2.483722\n",
      "147978\n",
      "number of nodes, n  = 4293\n",
      "number of edges, m  = 143176\n"
     ]
    }
   ],
   "source": [
    "fname1 = 'sup3.txt'\n",
    "\n",
    "dfHSDN = pd.read_csv(fname1, sep = '\\t')\n",
    "print(dfHSDN.head())\n",
    "print(dfHSDN.tail())\n",
    "\n",
    "# print(dfHSDN.columns)\n",
    "\n",
    "Ghsdn = nx.from_pandas_edgelist(dfHSDN, 'MeSH Disease Term', 'MeSH Symptom Term', edge_key=\"TFIDF score\",)\n",
    "\n",
    "n = Ghsdn.number_of_nodes()\n",
    "m = Ghsdn.number_of_edges()\n",
    "\n",
    "print(f'number of nodes, n  = {n}')\n",
    "print(f'number of edges, m  = {m}') # 4802 missing edges?"
   ]
  },
  {
   "cell_type": "code",
   "execution_count": 23,
   "metadata": {},
   "outputs": [
    {
     "name": "stdout",
     "output_type": "stream",
     "text": [
      "147978\n",
      "\n",
      "['Aging, Premature' 'Asthenia' 'Fever' 'Fever of Unknown Origin'\n",
      " 'Sweating Sickness' 'Hypothermia' 'Body Weight' 'Birth Weight'\n",
      " 'Fetal Macrosomia' 'Body Weight Changes' 'Weight Gain' 'Weight Loss'\n",
      " 'Emaciation' 'Cachexia' 'Fetal Weight' 'Overweight' 'Obesity'\n",
      " 'Obesity, Morbid' 'Thinness' 'Cardiac Output, High' 'Cardiac Output, Low'\n",
      " 'Chills' 'Cyanosis' 'Infantile Apparent Life-Threatening Event' 'Edema'\n",
      " 'Edema, Cardiac' 'Hydrops Fetalis' 'Eye Manifestations' 'Eye Hemorrhage'\n",
      " 'Eye Pain' 'Susac Syndrome' 'Fatigue' 'Mental Fatigue' 'Feminization'\n",
      " 'Fetal Distress' 'Flushing' 'Heart Murmurs' 'Systolic Murmurs'\n",
      " 'Hot Flashes' 'Hypergammaglobulinemia' 'Intermittent Claudication'\n",
      " 'Mobility Limitation' 'Motion Sickness' 'Space Motion Sickness'\n",
      " 'Neurologic Manifestations' 'Cerebrospinal Fluid Otorrhea'\n",
      " 'Cerebrospinal Fluid Rhinorrhea' 'Decerebrate State' 'Dyskinesias'\n",
      " 'Ataxia' 'Cerebellar Ataxia' 'Gait Ataxia' 'Athetosis' 'Catalepsy'\n",
      " 'Chorea' 'Dystonia' 'Torticollis' 'Hyperkinesis' 'Hypokinesia'\n",
      " 'Myoclonus' 'Psychomotor Agitation' 'Akathisia, Drug-Induced'\n",
      " 'Synkinesis' 'Tics' 'Tremor' 'Gait Disorders, Neurologic' 'Gait Apraxia'\n",
      " 'Meningism' 'Neurobehavioral Manifestations' 'Apraxias'\n",
      " 'Alien Hand Syndrome' 'Catatonia' 'Communication Disorders'\n",
      " 'Language Disorders' 'Agraphia' 'Anomia' 'Dyslexia' 'Dyslexia, Acquired'\n",
      " 'Alexia, Pure' 'Language Development Disorders' 'Speech Disorders'\n",
      " 'Aphasia' 'Aphasia, Broca' 'Aphasia, Conduction'\n",
      " 'Aphasia, Primary Progressive' 'Primary Progressive Nonfluent Aphasia'\n",
      " 'Aphasia, Wernicke' 'Articulation Disorders' 'Dysarthria' 'Echolalia'\n",
      " 'Mutism' 'Stuttering' 'Learning Disorders' 'Confusion' 'Delirium'\n",
      " 'Consciousness Disorders' 'Unconsciousness' 'Coma'\n",
      " 'Persistent Vegetative State' 'Stupor' 'Syncope' 'Syncope, Vasovagal'\n",
      " 'Lethargy' 'Memory Disorders' 'Amnesia' 'Amnesia, Anterograde'\n",
      " 'Amnesia, Retrograde' 'Amnesia, Transient Global' 'Korsakoff Syndrome'\n",
      " 'Mental Retardation' 'Perceptual Disorders' 'Agnosia'\n",
      " 'Gerstmann Syndrome' 'Prosopagnosia' 'Auditory Perceptual Disorders'\n",
      " 'Hallucinations' 'Illusions' 'Phantom Limb' 'Psychomotor Disorders'\n",
      " 'Apraxia, Ideomotor' 'Fasciculation' 'Muscle Cramp' 'Muscle Hypertonia'\n",
      " 'Muscle Rigidity' 'Muscle Spasticity' 'Muscle Hypotonia'\n",
      " 'Muscle Weakness' 'Muscular Atrophy' 'Sarcopenia' 'Myokymia' 'Myotonia'\n",
      " 'Spasm' 'Hemifacial Spasm' 'Trismus' 'Tetany' 'Orthostatic Intolerance'\n",
      " 'Pain' 'Back Pain' 'Low Back Pain' 'Facial Pain' 'Headache'\n",
      " 'Slit Ventricle Syndrome' 'Labor Pain' 'Metatarsalgia' 'Neck Pain'\n",
      " 'Neuralgia' 'Neuralgia, Postherpetic' 'Piriformis Muscle Syndrome'\n",
      " 'Sciatica' 'Pain, Intractable' 'Pain, Referred' 'Paralysis'\n",
      " 'Facial Paralysis' 'Gastroparesis' 'Hemiplegia' 'Ophthalmoplegia'\n",
      " 'Ophthalmoplegia, Chronic Progressive External'\n",
      " 'Supranuclear Palsy, Progressive' 'Paraplegia' 'Brown-Sequard Syndrome'\n",
      " 'Pseudobulbar Palsy' 'Quadriplegia' 'Respiratory Paralysis'\n",
      " 'Vocal Cord Paralysis' 'Paresis' 'Paraparesis' 'Paraparesis, Spastic'\n",
      " 'Psychophysiologic Disorders' 'Pupil Disorders' 'Anisocoria' 'Miosis'\n",
      " 'Horner Syndrome' 'Tonic Pupil' 'Reflex, Abnormal' 'Reflex, Babinski'\n",
      " 'Seizures' 'Sensation Disorders' 'Dizziness' 'Hearing Disorders'\n",
      " 'Hearing Loss' 'Deafness' 'Deaf-Blind Disorders'\n",
      " 'Hearing Loss, Bilateral' 'Hearing Loss, Conductive'\n",
      " 'Hearing Loss, Functional' 'Hearing Loss, High-Frequency'\n",
      " 'Hearing Loss, Mixed Conductive-Sensorineural'\n",
      " 'Hearing Loss, Sensorineural' 'Hearing Loss, Central'\n",
      " 'Hearing Loss, Noise-Induced' 'Presbycusis' 'Usher Syndromes'\n",
      " 'Hearing Loss, Sudden' 'Hearing Loss, Unilateral' 'Hyperacusis'\n",
      " 'Tinnitus' 'Olfaction Disorders' 'Somatosensory Disorders' 'Hyperalgesia'\n",
      " 'Hyperesthesia' 'Hypesthesia' 'Paresthesia' 'Taste Disorders' 'Ageusia'\n",
      " 'Dysgeusia' 'Vision Disorders' 'Amblyopia' 'Blindness' 'Amaurosis Fugax'\n",
      " 'Blindness, Cortical' 'Color Vision Defects' 'Diplopia' 'Hemianopsia'\n",
      " 'Photophobia' 'Scotoma' 'Vision, Low' 'Sleep Disorders'\n",
      " 'Sleep Deprivation' 'Urinary Bladder, Neurogenic' 'Vertigo'\n",
      " 'Voice Disorders' 'Aphonia' 'Dysphonia' 'Hoarseness'\n",
      " 'Oral Manifestations' 'Oral Hemorrhage' 'Abdominal Pain' 'Abdomen, Acute'\n",
      " 'Colic' 'Renal Colic' 'Arthralgia' 'Shoulder Pain' 'Chest Pain'\n",
      " 'Angina Pectoris' 'Acute Coronary Syndrome' 'Angina, Unstable'\n",
      " 'Angina Pectoris, Variant' 'Earache' 'Toothache' 'Flank Pain'\n",
      " 'Glossalgia' 'Pain, Postoperative' 'Pelvic Pain' 'Dysmenorrhea'\n",
      " 'Pseudophakia' 'Reticulocytosis' 'Aerophagy' 'Anorexia' 'Constipation'\n",
      " 'Coprophagia' 'Diarrhea' 'Diarrhea, Infantile' 'Dyspepsia' 'Encopresis'\n",
      " 'Eructation' 'Flatulence' 'Gagging' 'Halitosis' 'Heartburn' 'Hiccup'\n",
      " 'Hyperphagia' 'Bulimia' 'Nausea' 'Postoperative Nausea and Vomiting'\n",
      " 'Vomiting' 'Hematemesis' 'Morning Sickness' 'Hyperemesis Gravidarum'\n",
      " 'Vomiting, Anticipatory' 'Anoxia' 'Fetal Hypoxia' 'Apnea'\n",
      " 'Cheyne-Stokes Respiration' 'Cough' 'Dyspnea' 'Dyspnea, Paroxysmal'\n",
      " 'Hemoptysis' 'Hypercapnia' 'Hyperoxia' 'Hyperventilation' 'Hypocapnia'\n",
      " 'Hypoventilation' 'Mouth Breathing' 'Respiratory Aspiration'\n",
      " 'Respiratory Sounds' 'Snoring' 'Sneezing' 'Skin Manifestations'\n",
      " 'Cafe-au-Lait Spots' 'Ecchymosis' 'Jaundice' 'Jaundice, Obstructive'\n",
      " 'Livedo Reticularis' 'Necrolytic Migratory Erythema' 'Pallor' 'Pruritus'\n",
      " 'Tinea Pedis' 'Purpura' 'Purpura Fulminans' 'Purpura, Hyperglobulinemic'\n",
      " 'Purpura, Schoenlein-Henoch' 'Purpura, Thrombocytopenic'\n",
      " 'Purpura, Thrombocytopenic, Idiopathic'\n",
      " 'Purpura, Thrombotic Thrombocytopenic' 'Waterhouse-Friderichsen Syndrome'\n",
      " 'Striae Distensae' 'Dysuria' 'Hypercalciuria' 'Nocturia' 'Oliguria'\n",
      " 'Polyuria' 'Prostatism' 'Proteinuria' 'Albuminuria' 'Hemoglobinuria'\n",
      " 'Urinary Bladder, Overactive' 'Urinary Incontinence'\n",
      " 'Urinary Incontinence, Stress' 'Urinary Incontinence, Urge' 'Urinoma'\n",
      " 'Virilism' 'Hirsutism']\n",
      "\n",
      "['Respiratory Syncytial Virus Infections' 'Orthomyxoviridae Infections'\n",
      " 'HIV Infections' ... 'Antley-Bixler Syndrome Phenotype'\n",
      " '46, XX Disorders of Sex Development'\n",
      " '46, XY Disorders of Sex Development']\n",
      "4219\n"
     ]
    }
   ],
   "source": [
    "#with_labels = 'True'\n",
    "# plt.figure(figsize = (12, 6)) # Define new figure size because default figure produced turned out to be too smal\n",
    "# hsdnLayoutGraph = nx.draw_spring(Ghsdn, with_labels = 'True', node_size = 500, font_color = 'black', node_color = 'blue') # Use nx.draw_spring to draw graph in spring layout. Use white on blue color scheme\n",
    "# plt.show() # Show the layout itself after graph has been built\n",
    "\n",
    "uniqueDiseases = sum(dfHSDN[\"MeSH Symptom Term\"].value_counts())\n",
    "print(uniqueDiseases)\n",
    "\n",
    "print()\n",
    "\n",
    "uniqueSymptomLabels = dfHSDN[\"MeSH Symptom Term\"].unique()\n",
    "print(uniqueSymptomLabels)\n",
    "\n",
    "print()\n",
    "\n",
    "uniqueDiseaseLabels = dfHSDN[\"MeSH Disease Term\"].unique()\n",
    "print(uniqueDiseaseLabels)\n",
    "print(len(uniqueDiseaseLabels))"
   ]
  },
  {
   "cell_type": "code",
   "execution_count": 17,
   "metadata": {},
   "outputs": [
    {
     "data": {
      "text/plain": [
       "False"
      ]
     },
     "execution_count": 17,
     "metadata": {},
     "output_type": "execute_result"
    }
   ],
   "source": [
    "nx.is_connected(Ghsdn)"
   ]
  },
  {
   "cell_type": "code",
   "execution_count": 24,
   "metadata": {},
   "outputs": [
    {
     "ename": "NetworkXError",
     "evalue": "Found infinite path length because the graph is not connected",
     "output_type": "error",
     "traceback": [
      "\u001b[0;31m---------------------------------------------------------------------------\u001b[0m",
      "\u001b[0;31mNetworkXError\u001b[0m                             Traceback (most recent call last)",
      "\u001b[0;32m<ipython-input-24-a3912df1ed1a>\u001b[0m in \u001b[0;36m<module>\u001b[0;34m\u001b[0m\n\u001b[1;32m      1\u001b[0m \u001b[0;31m# Calculate summary statistics. Network is disconnected it seems like so should we instead to edge prediction?\u001b[0m\u001b[0;34m\u001b[0m\u001b[0;34m\u001b[0m\u001b[0;34m\u001b[0m\u001b[0m\n\u001b[1;32m      2\u001b[0m \u001b[0;34m\u001b[0m\u001b[0m\n\u001b[0;32m----> 3\u001b[0;31m \u001b[0mdiameter\u001b[0m \u001b[0;34m=\u001b[0m \u001b[0mnx\u001b[0m\u001b[0;34m.\u001b[0m\u001b[0mdiameter\u001b[0m\u001b[0;34m(\u001b[0m\u001b[0mGhsdn\u001b[0m\u001b[0;34m)\u001b[0m\u001b[0;34m\u001b[0m\u001b[0;34m\u001b[0m\u001b[0m\n\u001b[0m\u001b[1;32m      4\u001b[0m \u001b[0mellmean\u001b[0m \u001b[0;34m=\u001b[0m \u001b[0mnx\u001b[0m\u001b[0;34m.\u001b[0m\u001b[0maverage_shortest_path_length\u001b[0m\u001b[0;34m(\u001b[0m\u001b[0mGhsdn\u001b[0m\u001b[0;34m)\u001b[0m\u001b[0;34m\u001b[0m\u001b[0;34m\u001b[0m\u001b[0m\n\u001b[1;32m      5\u001b[0m \u001b[0mC\u001b[0m \u001b[0;34m=\u001b[0m \u001b[0mnx\u001b[0m\u001b[0;34m.\u001b[0m\u001b[0mtransitivity\u001b[0m\u001b[0;34m(\u001b[0m\u001b[0mGhsdn\u001b[0m\u001b[0;34m)\u001b[0m\u001b[0;34m\u001b[0m\u001b[0;34m\u001b[0m\u001b[0m\n",
      "\u001b[0;32m~/opt/anaconda3/lib/python3.8/site-packages/networkx/algorithms/distance_measures.py\u001b[0m in \u001b[0;36mdiameter\u001b[0;34m(G, e, usebounds)\u001b[0m\n\u001b[1;32m    297\u001b[0m         \u001b[0;32mreturn\u001b[0m \u001b[0mextrema_bounding\u001b[0m\u001b[0;34m(\u001b[0m\u001b[0mG\u001b[0m\u001b[0;34m,\u001b[0m \u001b[0mcompute\u001b[0m\u001b[0;34m=\u001b[0m\u001b[0;34m\"diameter\"\u001b[0m\u001b[0;34m)\u001b[0m\u001b[0;34m\u001b[0m\u001b[0;34m\u001b[0m\u001b[0m\n\u001b[1;32m    298\u001b[0m     \u001b[0;32mif\u001b[0m \u001b[0me\u001b[0m \u001b[0;32mis\u001b[0m \u001b[0;32mNone\u001b[0m\u001b[0;34m:\u001b[0m\u001b[0;34m\u001b[0m\u001b[0;34m\u001b[0m\u001b[0m\n\u001b[0;32m--> 299\u001b[0;31m         \u001b[0me\u001b[0m \u001b[0;34m=\u001b[0m \u001b[0meccentricity\u001b[0m\u001b[0;34m(\u001b[0m\u001b[0mG\u001b[0m\u001b[0;34m)\u001b[0m\u001b[0;34m\u001b[0m\u001b[0;34m\u001b[0m\u001b[0m\n\u001b[0m\u001b[1;32m    300\u001b[0m     \u001b[0;32mreturn\u001b[0m \u001b[0mmax\u001b[0m\u001b[0;34m(\u001b[0m\u001b[0me\u001b[0m\u001b[0;34m.\u001b[0m\u001b[0mvalues\u001b[0m\u001b[0;34m(\u001b[0m\u001b[0;34m)\u001b[0m\u001b[0;34m)\u001b[0m\u001b[0;34m\u001b[0m\u001b[0;34m\u001b[0m\u001b[0m\n\u001b[1;32m    301\u001b[0m \u001b[0;34m\u001b[0m\u001b[0m\n",
      "\u001b[0;32m~/opt/anaconda3/lib/python3.8/site-packages/networkx/algorithms/distance_measures.py\u001b[0m in \u001b[0;36meccentricity\u001b[0;34m(G, v, sp)\u001b[0m\n\u001b[1;32m    262\u001b[0m             \u001b[0;32melse\u001b[0m\u001b[0;34m:\u001b[0m\u001b[0;34m\u001b[0m\u001b[0;34m\u001b[0m\u001b[0m\n\u001b[1;32m    263\u001b[0m                 \u001b[0mmsg\u001b[0m \u001b[0;34m=\u001b[0m \u001b[0;34m\"Found infinite path length because the graph is not\"\u001b[0m \u001b[0;34m\" connected\"\u001b[0m\u001b[0;34m\u001b[0m\u001b[0;34m\u001b[0m\u001b[0m\n\u001b[0;32m--> 264\u001b[0;31m             \u001b[0;32mraise\u001b[0m \u001b[0mnx\u001b[0m\u001b[0;34m.\u001b[0m\u001b[0mNetworkXError\u001b[0m\u001b[0;34m(\u001b[0m\u001b[0mmsg\u001b[0m\u001b[0;34m)\u001b[0m\u001b[0;34m\u001b[0m\u001b[0;34m\u001b[0m\u001b[0m\n\u001b[0m\u001b[1;32m    265\u001b[0m \u001b[0;34m\u001b[0m\u001b[0m\n\u001b[1;32m    266\u001b[0m         \u001b[0me\u001b[0m\u001b[0;34m[\u001b[0m\u001b[0mn\u001b[0m\u001b[0;34m]\u001b[0m \u001b[0;34m=\u001b[0m \u001b[0mmax\u001b[0m\u001b[0;34m(\u001b[0m\u001b[0mlength\u001b[0m\u001b[0;34m.\u001b[0m\u001b[0mvalues\u001b[0m\u001b[0;34m(\u001b[0m\u001b[0;34m)\u001b[0m\u001b[0;34m)\u001b[0m\u001b[0;34m\u001b[0m\u001b[0;34m\u001b[0m\u001b[0m\n",
      "\u001b[0;31mNetworkXError\u001b[0m: Found infinite path length because the graph is not connected"
     ]
    }
   ],
   "source": [
    "# Calculate summary statistics. Network is disconnected it seems like so should we instead to edge prediction?\n",
    "\n",
    "diameter = nx.diameter(Ghsdn)\n",
    "ellmean = nx.average_shortest_path_length(Ghsdn)\n",
    "C = nx.transitivity(Ghsdn) \n",
    "h = nx.number_connected_components(Ghsdn)\n",
    "#kmax = max(degrees)\n",
    "#kstd = np.std(degrees)\n",
    "\n",
    "print(f'diameter = {diameter}')\n",
    "print(f'mean geodesic distance, <ell> = %5.2f' % ellmean)\n",
    "print(f'clustering coefficient, C     = %5.2f' % C)\n",
    "print(f'number of components,   h     =  {h}')\n",
    "print(f'max degree, k_max = {kmax}')\n",
    "print(f'max degree, k_std = %5.2f' % kstd)"
   ]
  },
  {
   "cell_type": "code",
   "execution_count": null,
   "metadata": {},
   "outputs": [],
   "source": [
    "# Bipartite DC-SBM, more recent Larremore paper on block models "
   ]
  }
 ],
 "metadata": {
  "kernelspec": {
   "display_name": "Python 3",
   "language": "python",
   "name": "python3"
  },
  "language_info": {
   "codemirror_mode": {
    "name": "ipython",
    "version": 3
   },
   "file_extension": ".py",
   "mimetype": "text/x-python",
   "name": "python",
   "nbconvert_exporter": "python",
   "pygments_lexer": "ipython3",
   "version": "3.8.5"
  }
 },
 "nbformat": 4,
 "nbformat_minor": 5
}
